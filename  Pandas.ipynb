{
 "cells": [
  {
   "cell_type": "markdown",
   "id": "ea29447c",
   "metadata": {},
   "source": [
    " # Pandas\n",
    " \n",
    "#### Series\n",
    "* pd.Series(data , labels)\n",
    "This is just a kind of double hashmap where each  entry exists in the form key value pairs { list , list}\n",
    "\n",
    "### DataFrames:\n",
    "\n",
    "* pd.DataFrame(data , rows, cols)\n",
    "data frames are nothing but a two dimesional representation of DataSeries\n",
    "with both axes consisting of two different series which can be indexed form each other an serves as alternative DataSeries for each other.\n",
    "\n",
    "* df.drop(col, axis = 1, inplace = true) \n",
    "    * Rows have 0 and cols have 1 axis\n",
    "    * inplace = true is required for deleting permanently\n",
    "    \n",
    "*  Df.loc() , df.iloc(idx)\n",
    "    * loc finds the series with key \n",
    "    * iloc returns the series but with taking index\n",
    "* df.reset_index()\n",
    "    * it adds new index 0 , 1 , 2 ,3 for every row\n",
    "* df.set_index()\n",
    "    * removes the index column added from reset_index()\n",
    "* df.index.name = [list] \n",
    "* Df.xs(pos, level= ‘index name’)\n",
    "\n",
    "\n",
    "### Missing Value:\n",
    "* df.dropna(axis=””, thresh=“”) \n",
    "    * thres:Limit for the amount of NaN values \n",
    "    * axis : 0 for rows 1 for colums\n",
    "* df.fillna(value =df[].mean())\n",
    "    * used to fill the NaN values\n",
    "\n",
    "\n",
    "### GroupBy\n",
    "* df.groupby(col).__someAgregateFunction__\n",
    "* df.groupBy(col).describe()\n",
    "> Tese are the normal sql shit\n",
    "\n",
    "### Merging\n",
    "* pd.concat([df1,df2,df3])\n",
    "* pd.merge(left, right , how=‘inner’,on = ‘key’)\n",
    "> again that sql joins.\n",
    "\n",
    "### Unique\n",
    "* df[col].unique()\n",
    "* df[col].value.counts() \n",
    "* df[col].apply(__customFunction__)\n",
    "    * we can apply any cusotm function there .\n",
    "* df.sort_values(by=‘col’)\n",
    "* df.isnull()\n",
    "* df.pivot_table(values=,index=[],columns=[])\n",
    "    * not to be used as such.\n",
    "\t"
   ]
  }
 ],
 "metadata": {
  "kernelspec": {
   "display_name": "Python 3 (ipykernel)",
   "language": "python",
   "name": "python3"
  },
  "language_info": {
   "codemirror_mode": {
    "name": "ipython",
    "version": 3
   },
   "file_extension": ".py",
   "mimetype": "text/x-python",
   "name": "python",
   "nbconvert_exporter": "python",
   "pygments_lexer": "ipython3",
   "version": "3.9.12"
  }
 },
 "nbformat": 4,
 "nbformat_minor": 5
}
