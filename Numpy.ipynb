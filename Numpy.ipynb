{
 "cells": [
  {
   "cell_type": "markdown",
   "id": "7e4cbe49",
   "metadata": {},
   "source": [
    "# Numpy  \n",
    "\n",
    "#### Arrays  \n",
    "\n",
    "* Array() ->  create an array from an python list\n",
    "* Shape() -> returns the shape of the array\n",
    "* Dtype() \n",
    "***\n",
    "* np.zeros() -> create a matrix of zeros\n",
    "* np.ones() -> create a matrix of ones \n",
    "* Np.empty()  -> create an array of empty matrix\n",
    "* np.eye() -> identity’s matrix\n",
    "***\n",
    "* np.arange(start,stop,step) ->  create equally spaced array of integers having step size \n",
    "* np.linspace(start, stop,n_points) -> create linearly spaced value with  N points\n",
    "***\n",
    "* np.random.rand/n(n_row,n_col) -> random stuff\n",
    "* np.random.randint(start, stop,n_points) -> random integer generator\n",
    "* np.reshape(a,b) -> converts the shape of an existing numpy array\n",
    "***\n",
    "* np.max() / np.argmax() ->   returns the largest value/ largest index\n",
    "* np.min() / np.argmin() -> returns the smalles value / smallest index\n",
    "* arr.shape -> returns the shape of array\n",
    "* arr.dtype\n",
    "  \n",
    "#### Numpy Array Indexing\n",
    "* Same as python indexing\n",
    "---\n",
    "* The slice of an array will be just a view of the initial array not a copy any changes that will be there will affect the original array as well\n",
    "    * arr[arr<5] : this will return the array as an array containing all the elements having value greater > 5\n",
    "---\n",
    "\n",
    "\n",
    "#### Numpy Operations\n",
    "* Normal arithmetic operations\n",
    "* np.sqrt() : take the square root of all the elements in the array\n",
    "*  np.max():\n",
    "* np.exp()\n",
    "* np.sine() , cosine()\n",
    "* np.log()\n",
    "* ar.sum()\n",
    "* ar.std() standard deviation\n"
   ]
  },
  {
   "cell_type": "code",
   "execution_count": null,
   "id": "30edd797",
   "metadata": {},
   "outputs": [],
   "source": []
  },
  {
   "cell_type": "code",
   "execution_count": 2,
   "id": "e50298d7",
   "metadata": {},
   "outputs": [],
   "source": [
    "import numpy as np "
   ]
  },
  {
   "cell_type": "code",
   "execution_count": 5,
   "id": "621d2540",
   "metadata": {},
   "outputs": [
    {
     "data": {
      "text/plain": [
       "[1, 3, 5, 7, 9]"
      ]
     },
     "execution_count": 5,
     "metadata": {},
     "output_type": "execute_result"
    }
   ],
   "source": [
    "list(np.arange(1,10,2))"
   ]
  },
  {
   "cell_type": "code",
   "execution_count": 6,
   "id": "609a4219",
   "metadata": {},
   "outputs": [
    {
     "data": {
      "text/plain": [
       "[1.0,\n",
       " 1.4736842105263157,\n",
       " 1.9473684210526314,\n",
       " 2.4210526315789473,\n",
       " 2.894736842105263,\n",
       " 3.3684210526315788,\n",
       " 3.8421052631578947,\n",
       " 4.315789473684211,\n",
       " 4.789473684210526,\n",
       " 5.263157894736842,\n",
       " 5.7368421052631575,\n",
       " 6.2105263157894735,\n",
       " 6.684210526315789,\n",
       " 7.157894736842105,\n",
       " 7.63157894736842,\n",
       " 8.105263157894736,\n",
       " 8.578947368421051,\n",
       " 9.052631578947368,\n",
       " 9.526315789473683,\n",
       " 10.0]"
      ]
     },
     "execution_count": 6,
     "metadata": {},
     "output_type": "execute_result"
    }
   ],
   "source": [
    " list(np.linspace(1,10,20))"
   ]
  }
 ],
 "metadata": {
  "kernelspec": {
   "display_name": "Python 3 (ipykernel)",
   "language": "python",
   "name": "python3"
  },
  "language_info": {
   "codemirror_mode": {
    "name": "ipython",
    "version": 3
   },
   "file_extension": ".py",
   "mimetype": "text/x-python",
   "name": "python",
   "nbconvert_exporter": "python",
   "pygments_lexer": "ipython3",
   "version": "3.9.12"
  },
  "widgets": {
   "application/vnd.jupyter.widget-state+json": {
    "state": {},
    "version_major": 2,
    "version_minor": 0
   }
  }
 },
 "nbformat": 4,
 "nbformat_minor": 5
}
